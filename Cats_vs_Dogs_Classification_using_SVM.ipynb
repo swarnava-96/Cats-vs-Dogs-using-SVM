{
  "nbformat": 4,
  "nbformat_minor": 0,
  "metadata": {
    "colab": {
      "name": "Cats vs Dogs Classification using SVM",
      "provenance": []
    },
    "kernelspec": {
      "name": "python3",
      "display_name": "Python 3"
    },
    "language_info": {
      "name": "python"
    }
  },
  "cells": [
    {
      "cell_type": "markdown",
      "metadata": {
        "id": "JAaBXcXWUUS4"
      },
      "source": [
        "# **Cats vs Dogs Classification using SVM**\n",
        "In this project, I will use CNN and SVM to classify dogs and cats based on images."
      ]
    },
    {
      "cell_type": "code",
      "metadata": {
        "colab": {
          "base_uri": "https://localhost:8080/"
        },
        "id": "IeM4MXKYUij3",
        "outputId": "4e021f2b-f184-40bd-ef58-4ab894afdebd"
      },
      "source": [
        "cd \"/content/drive/MyDrive/cats_Dogs/Dataset\""
      ],
      "execution_count": 1,
      "outputs": [
        {
          "output_type": "stream",
          "name": "stdout",
          "text": [
            "/content/drive/MyDrive/cats_Dogs/Dataset\n"
          ]
        }
      ]
    },
    {
      "cell_type": "code",
      "metadata": {
        "colab": {
          "base_uri": "https://localhost:8080/"
        },
        "id": "31o4_qYCUjkN",
        "outputId": "f5cb76aa-0ec4-462d-a796-8bee2635f3ce"
      },
      "source": [
        "# Lets install tensorflow==2.5.0\n",
        "!pip install tensorflow==2.5.0"
      ],
      "execution_count": 2,
      "outputs": [
        {
          "output_type": "stream",
          "name": "stdout",
          "text": [
            "Requirement already satisfied: tensorflow==2.5.0 in /usr/local/lib/python3.7/dist-packages (2.5.0)\n",
            "Requirement already satisfied: grpcio~=1.34.0 in /usr/local/lib/python3.7/dist-packages (from tensorflow==2.5.0) (1.34.1)\n",
            "Requirement already satisfied: wrapt~=1.12.1 in /usr/local/lib/python3.7/dist-packages (from tensorflow==2.5.0) (1.12.1)\n",
            "Requirement already satisfied: absl-py~=0.10 in /usr/local/lib/python3.7/dist-packages (from tensorflow==2.5.0) (0.12.0)\n",
            "Requirement already satisfied: tensorboard~=2.5 in /usr/local/lib/python3.7/dist-packages (from tensorflow==2.5.0) (2.6.0)\n",
            "Requirement already satisfied: opt-einsum~=3.3.0 in /usr/local/lib/python3.7/dist-packages (from tensorflow==2.5.0) (3.3.0)\n",
            "Requirement already satisfied: h5py~=3.1.0 in /usr/local/lib/python3.7/dist-packages (from tensorflow==2.5.0) (3.1.0)\n",
            "Requirement already satisfied: typing-extensions~=3.7.4 in /usr/local/lib/python3.7/dist-packages (from tensorflow==2.5.0) (3.7.4.3)\n",
            "Requirement already satisfied: six~=1.15.0 in /usr/local/lib/python3.7/dist-packages (from tensorflow==2.5.0) (1.15.0)\n",
            "Requirement already satisfied: numpy~=1.19.2 in /usr/local/lib/python3.7/dist-packages (from tensorflow==2.5.0) (1.19.5)\n",
            "Requirement already satisfied: flatbuffers~=1.12.0 in /usr/local/lib/python3.7/dist-packages (from tensorflow==2.5.0) (1.12)\n",
            "Requirement already satisfied: protobuf>=3.9.2 in /usr/local/lib/python3.7/dist-packages (from tensorflow==2.5.0) (3.17.3)\n",
            "Requirement already satisfied: wheel~=0.35 in /usr/local/lib/python3.7/dist-packages (from tensorflow==2.5.0) (0.37.0)\n",
            "Requirement already satisfied: google-pasta~=0.2 in /usr/local/lib/python3.7/dist-packages (from tensorflow==2.5.0) (0.2.0)\n",
            "Requirement already satisfied: keras-preprocessing~=1.1.2 in /usr/local/lib/python3.7/dist-packages (from tensorflow==2.5.0) (1.1.2)\n",
            "Requirement already satisfied: keras-nightly~=2.5.0.dev in /usr/local/lib/python3.7/dist-packages (from tensorflow==2.5.0) (2.5.0.dev2021032900)\n",
            "Requirement already satisfied: tensorflow-estimator<2.6.0,>=2.5.0rc0 in /usr/local/lib/python3.7/dist-packages (from tensorflow==2.5.0) (2.5.0)\n",
            "Requirement already satisfied: gast==0.4.0 in /usr/local/lib/python3.7/dist-packages (from tensorflow==2.5.0) (0.4.0)\n",
            "Requirement already satisfied: termcolor~=1.1.0 in /usr/local/lib/python3.7/dist-packages (from tensorflow==2.5.0) (1.1.0)\n",
            "Requirement already satisfied: astunparse~=1.6.3 in /usr/local/lib/python3.7/dist-packages (from tensorflow==2.5.0) (1.6.3)\n",
            "Requirement already satisfied: cached-property in /usr/local/lib/python3.7/dist-packages (from h5py~=3.1.0->tensorflow==2.5.0) (1.5.2)\n",
            "Requirement already satisfied: requests<3,>=2.21.0 in /usr/local/lib/python3.7/dist-packages (from tensorboard~=2.5->tensorflow==2.5.0) (2.23.0)\n",
            "Requirement already satisfied: tensorboard-plugin-wit>=1.6.0 in /usr/local/lib/python3.7/dist-packages (from tensorboard~=2.5->tensorflow==2.5.0) (1.8.0)\n",
            "Requirement already satisfied: google-auth-oauthlib<0.5,>=0.4.1 in /usr/local/lib/python3.7/dist-packages (from tensorboard~=2.5->tensorflow==2.5.0) (0.4.6)\n",
            "Requirement already satisfied: werkzeug>=0.11.15 in /usr/local/lib/python3.7/dist-packages (from tensorboard~=2.5->tensorflow==2.5.0) (1.0.1)\n",
            "Requirement already satisfied: tensorboard-data-server<0.7.0,>=0.6.0 in /usr/local/lib/python3.7/dist-packages (from tensorboard~=2.5->tensorflow==2.5.0) (0.6.1)\n",
            "Requirement already satisfied: setuptools>=41.0.0 in /usr/local/lib/python3.7/dist-packages (from tensorboard~=2.5->tensorflow==2.5.0) (57.4.0)\n",
            "Requirement already satisfied: markdown>=2.6.8 in /usr/local/lib/python3.7/dist-packages (from tensorboard~=2.5->tensorflow==2.5.0) (3.3.4)\n",
            "Requirement already satisfied: google-auth<2,>=1.6.3 in /usr/local/lib/python3.7/dist-packages (from tensorboard~=2.5->tensorflow==2.5.0) (1.35.0)\n",
            "Requirement already satisfied: cachetools<5.0,>=2.0.0 in /usr/local/lib/python3.7/dist-packages (from google-auth<2,>=1.6.3->tensorboard~=2.5->tensorflow==2.5.0) (4.2.4)\n",
            "Requirement already satisfied: rsa<5,>=3.1.4 in /usr/local/lib/python3.7/dist-packages (from google-auth<2,>=1.6.3->tensorboard~=2.5->tensorflow==2.5.0) (4.7.2)\n",
            "Requirement already satisfied: pyasn1-modules>=0.2.1 in /usr/local/lib/python3.7/dist-packages (from google-auth<2,>=1.6.3->tensorboard~=2.5->tensorflow==2.5.0) (0.2.8)\n",
            "Requirement already satisfied: requests-oauthlib>=0.7.0 in /usr/local/lib/python3.7/dist-packages (from google-auth-oauthlib<0.5,>=0.4.1->tensorboard~=2.5->tensorflow==2.5.0) (1.3.0)\n",
            "Requirement already satisfied: importlib-metadata in /usr/local/lib/python3.7/dist-packages (from markdown>=2.6.8->tensorboard~=2.5->tensorflow==2.5.0) (4.8.1)\n",
            "Requirement already satisfied: pyasn1<0.5.0,>=0.4.6 in /usr/local/lib/python3.7/dist-packages (from pyasn1-modules>=0.2.1->google-auth<2,>=1.6.3->tensorboard~=2.5->tensorflow==2.5.0) (0.4.8)\n",
            "Requirement already satisfied: idna<3,>=2.5 in /usr/local/lib/python3.7/dist-packages (from requests<3,>=2.21.0->tensorboard~=2.5->tensorflow==2.5.0) (2.10)\n",
            "Requirement already satisfied: certifi>=2017.4.17 in /usr/local/lib/python3.7/dist-packages (from requests<3,>=2.21.0->tensorboard~=2.5->tensorflow==2.5.0) (2021.5.30)\n",
            "Requirement already satisfied: chardet<4,>=3.0.2 in /usr/local/lib/python3.7/dist-packages (from requests<3,>=2.21.0->tensorboard~=2.5->tensorflow==2.5.0) (3.0.4)\n",
            "Requirement already satisfied: urllib3!=1.25.0,!=1.25.1,<1.26,>=1.21.1 in /usr/local/lib/python3.7/dist-packages (from requests<3,>=2.21.0->tensorboard~=2.5->tensorflow==2.5.0) (1.24.3)\n",
            "Requirement already satisfied: oauthlib>=3.0.0 in /usr/local/lib/python3.7/dist-packages (from requests-oauthlib>=0.7.0->google-auth-oauthlib<0.5,>=0.4.1->tensorboard~=2.5->tensorflow==2.5.0) (3.1.1)\n",
            "Requirement already satisfied: zipp>=0.5 in /usr/local/lib/python3.7/dist-packages (from importlib-metadata->markdown>=2.6.8->tensorboard~=2.5->tensorflow==2.5.0) (3.6.0)\n"
          ]
        }
      ]
    },
    {
      "cell_type": "code",
      "metadata": {
        "id": "l4WBC0KIUyWw"
      },
      "source": [
        "# Importing the necessary libraries\n",
        "import tensorflow as tf\n",
        "from tensorflow.keras.preprocessing.image import ImageDataGenerator\n",
        "from tensorflow.keras.layers import Conv2D, Dense\n",
        "from tensorflow.keras.regularizers import l2"
      ],
      "execution_count": 3,
      "outputs": []
    },
    {
      "cell_type": "code",
      "metadata": {
        "colab": {
          "base_uri": "https://localhost:8080/",
          "height": 35
        },
        "id": "TUqLgJ1aVCNM",
        "outputId": "4e8e2600-90da-4441-d266-e8053fbba503"
      },
      "source": [
        "# Lets check the tensorflow version\n",
        "tf.__version__"
      ],
      "execution_count": 4,
      "outputs": [
        {
          "output_type": "execute_result",
          "data": {
            "application/vnd.google.colaboratory.intrinsic+json": {
              "type": "string"
            },
            "text/plain": [
              "'2.5.0'"
            ]
          },
          "metadata": {},
          "execution_count": 4
        }
      ]
    },
    {
      "cell_type": "code",
      "metadata": {
        "id": "sW8fjUkRVGYX"
      },
      "source": [
        "# Data preprocessing\n",
        "train_datagen = ImageDataGenerator(rescale = 1./255,\n",
        "                                   shear_range = 0.2,\n",
        "                                   zoom_range = 0.2,\n",
        "                                   horizontal_flip  = True)\n",
        "test_datagen = ImageDataGenerator(rescale = 1./255)"
      ],
      "execution_count": 5,
      "outputs": []
    },
    {
      "cell_type": "code",
      "metadata": {
        "colab": {
          "base_uri": "https://localhost:8080/"
        },
        "id": "acVTPnpPV_kO",
        "outputId": "1c80cfa4-4950-41ac-d7a3-28be2e244194"
      },
      "source": [
        "# Importing the images from the dataset\n",
        "training_set = train_datagen.flow_from_directory(\"/content/drive/MyDrive/cats_Dogs/Dataset/train\",\n",
        "                                                 target_size = (64,64),\n",
        "                                                 batch_size = 32,\n",
        "                                                 class_mode = \"binary\")\n",
        "\n",
        "test_set = test_datagen.flow_from_directory(\"/content/drive/MyDrive/cats_Dogs/Dataset/test\",\n",
        "                                   target_size = (64,64),\n",
        "                                   batch_size = 32,\n",
        "                                   class_mode = \"binary\")"
      ],
      "execution_count": 6,
      "outputs": [
        {
          "output_type": "stream",
          "name": "stdout",
          "text": [
            "Found 300 images belonging to 2 classes.\n",
            "Found 100 images belonging to 2 classes.\n"
          ]
        }
      ]
    },
    {
      "cell_type": "code",
      "metadata": {
        "id": "ak4RiPkzW8EC"
      },
      "source": [
        "# Model building\n",
        "\n",
        "# Initializing the CNN\n",
        "cnn = tf.keras.models.Sequential()\n",
        "\n",
        "# Step 1 - Convolution\n",
        "cnn.add(tf.keras.layers.Conv2D(filters = 32, padding = \"same\", kernel_size = 3, activation = \"relu\", strides = 2, input_shape = [64,64,3]))\n",
        "\n",
        "# Step 2 - Pooling\n",
        "cnn.add(tf.keras.layers.MaxPool2D(pool_size = 2, strides = 2))\n",
        "\n",
        "# Adding a second convolutional layer\n",
        "cnn.add(tf.keras.layers.Conv2D(filters = 32, padding = \"same\", kernel_size = 3, activation = \"relu\"))\n",
        "cnn.add(tf.keras.layers.MaxPool2D(pool_size = 2, strides = 2))\n",
        "\n",
        "# Step 3 - Flattening\n",
        "cnn.add(tf.keras.layers.Flatten())\n",
        "\n",
        "# Step 4 - Full Connection\n",
        "cnn.add(tf.keras.layers.Dense(units = 128, activation = \"relu\"))\n",
        "\n",
        "# Step 5 - Output Layer\n",
        "#cnn.add(tf.keras.layers.Dense(units=1, activation='sigmoid'))\n",
        "## For Binary Classification -- here we will use SVM\n",
        "cnn.add(Dense(1, kernel_regularizer= tf.keras.regularizers.l2(0.01), activation = \"linear\"))"
      ],
      "execution_count": 7,
      "outputs": []
    },
    {
      "cell_type": "code",
      "metadata": {
        "colab": {
          "base_uri": "https://localhost:8080/"
        },
        "id": "RVUaZ4DHZxPG",
        "outputId": "f0354253-7118-4c76-ead5-76ede2970796"
      },
      "source": [
        "# Model summary\n",
        "cnn.summary()"
      ],
      "execution_count": 8,
      "outputs": [
        {
          "output_type": "stream",
          "name": "stdout",
          "text": [
            "Model: \"sequential\"\n",
            "_________________________________________________________________\n",
            "Layer (type)                 Output Shape              Param #   \n",
            "=================================================================\n",
            "conv2d (Conv2D)              (None, 32, 32, 32)        896       \n",
            "_________________________________________________________________\n",
            "max_pooling2d (MaxPooling2D) (None, 16, 16, 32)        0         \n",
            "_________________________________________________________________\n",
            "conv2d_1 (Conv2D)            (None, 16, 16, 32)        9248      \n",
            "_________________________________________________________________\n",
            "max_pooling2d_1 (MaxPooling2 (None, 8, 8, 32)          0         \n",
            "_________________________________________________________________\n",
            "flatten (Flatten)            (None, 2048)              0         \n",
            "_________________________________________________________________\n",
            "dense (Dense)                (None, 128)               262272    \n",
            "_________________________________________________________________\n",
            "dense_1 (Dense)              (None, 1)                 129       \n",
            "=================================================================\n",
            "Total params: 272,545\n",
            "Trainable params: 272,545\n",
            "Non-trainable params: 0\n",
            "_________________________________________________________________\n"
          ]
        }
      ]
    },
    {
      "cell_type": "code",
      "metadata": {
        "id": "BeIRl-rpZ30-"
      },
      "source": [
        "# Setting the model cost function, optimizer and metrics\n",
        "cnn.compile(optimizer = \"adam\", loss = \"hinge\", metrics = [\"accuracy\"])"
      ],
      "execution_count": 9,
      "outputs": []
    },
    {
      "cell_type": "code",
      "metadata": {
        "colab": {
          "base_uri": "https://localhost:8080/"
        },
        "id": "s8W2CZVCai--",
        "outputId": "de843d7e-7164-45aa-b4a2-a70e8268a381"
      },
      "source": [
        "# Model training\n",
        "r = cnn.fit(x = training_set, validation_data = test_set, epochs = 35)"
      ],
      "execution_count": 10,
      "outputs": [
        {
          "output_type": "stream",
          "name": "stdout",
          "text": [
            "Epoch 1/35\n",
            "10/10 [==============================] - 3s 212ms/step - loss: 1.0037 - accuracy: 0.5267 - val_loss: 0.9947 - val_accuracy: 0.5100\n",
            "Epoch 2/35\n",
            "10/10 [==============================] - 2s 189ms/step - loss: 0.9987 - accuracy: 0.4867 - val_loss: 1.0043 - val_accuracy: 0.4900\n",
            "Epoch 3/35\n",
            "10/10 [==============================] - 2s 183ms/step - loss: 0.9497 - accuracy: 0.6033 - val_loss: 0.9789 - val_accuracy: 0.5300\n",
            "Epoch 4/35\n",
            "10/10 [==============================] - 2s 184ms/step - loss: 0.9701 - accuracy: 0.5233 - val_loss: 1.0279 - val_accuracy: 0.4800\n",
            "Epoch 5/35\n",
            "10/10 [==============================] - 2s 186ms/step - loss: 0.9305 - accuracy: 0.5267 - val_loss: 1.0226 - val_accuracy: 0.5100\n",
            "Epoch 6/35\n",
            "10/10 [==============================] - 2s 185ms/step - loss: 0.8832 - accuracy: 0.6200 - val_loss: 1.0423 - val_accuracy: 0.4900\n",
            "Epoch 7/35\n",
            "10/10 [==============================] - 2s 183ms/step - loss: 0.8763 - accuracy: 0.5767 - val_loss: 1.0033 - val_accuracy: 0.5300\n",
            "Epoch 8/35\n",
            "10/10 [==============================] - 2s 187ms/step - loss: 0.8753 - accuracy: 0.6300 - val_loss: 1.0108 - val_accuracy: 0.4800\n",
            "Epoch 9/35\n",
            "10/10 [==============================] - 2s 189ms/step - loss: 0.8444 - accuracy: 0.6300 - val_loss: 1.0704 - val_accuracy: 0.4700\n",
            "Epoch 10/35\n",
            "10/10 [==============================] - 2s 184ms/step - loss: 0.7945 - accuracy: 0.6333 - val_loss: 1.0323 - val_accuracy: 0.5400\n",
            "Epoch 11/35\n",
            "10/10 [==============================] - 2s 182ms/step - loss: 0.7467 - accuracy: 0.6400 - val_loss: 1.1028 - val_accuracy: 0.5400\n",
            "Epoch 12/35\n",
            "10/10 [==============================] - 2s 185ms/step - loss: 0.7771 - accuracy: 0.6633 - val_loss: 1.0818 - val_accuracy: 0.5900\n",
            "Epoch 13/35\n",
            "10/10 [==============================] - 2s 185ms/step - loss: 0.7832 - accuracy: 0.6233 - val_loss: 1.0502 - val_accuracy: 0.4700\n",
            "Epoch 14/35\n",
            "10/10 [==============================] - 2s 189ms/step - loss: 0.7457 - accuracy: 0.6533 - val_loss: 1.0954 - val_accuracy: 0.5100\n",
            "Epoch 15/35\n",
            "10/10 [==============================] - 2s 189ms/step - loss: 0.6911 - accuracy: 0.6467 - val_loss: 1.1002 - val_accuracy: 0.4900\n",
            "Epoch 16/35\n",
            "10/10 [==============================] - 2s 186ms/step - loss: 0.6780 - accuracy: 0.7000 - val_loss: 1.0238 - val_accuracy: 0.5000\n",
            "Epoch 17/35\n",
            "10/10 [==============================] - 2s 186ms/step - loss: 0.6087 - accuracy: 0.7200 - val_loss: 1.0488 - val_accuracy: 0.5300\n",
            "Epoch 18/35\n",
            "10/10 [==============================] - 2s 192ms/step - loss: 0.6066 - accuracy: 0.7267 - val_loss: 1.0821 - val_accuracy: 0.5000\n",
            "Epoch 19/35\n",
            "10/10 [==============================] - 2s 187ms/step - loss: 0.6090 - accuracy: 0.7433 - val_loss: 1.0756 - val_accuracy: 0.5400\n",
            "Epoch 20/35\n",
            "10/10 [==============================] - 2s 186ms/step - loss: 0.6422 - accuracy: 0.7133 - val_loss: 1.0235 - val_accuracy: 0.5200\n",
            "Epoch 21/35\n",
            "10/10 [==============================] - 2s 186ms/step - loss: 0.6192 - accuracy: 0.7300 - val_loss: 1.1039 - val_accuracy: 0.5100\n",
            "Epoch 22/35\n",
            "10/10 [==============================] - 2s 185ms/step - loss: 0.5904 - accuracy: 0.7400 - val_loss: 1.1054 - val_accuracy: 0.5300\n",
            "Epoch 23/35\n",
            "10/10 [==============================] - 2s 188ms/step - loss: 0.5788 - accuracy: 0.7200 - val_loss: 1.0401 - val_accuracy: 0.5600\n",
            "Epoch 24/35\n",
            "10/10 [==============================] - 2s 192ms/step - loss: 0.5343 - accuracy: 0.7767 - val_loss: 1.0367 - val_accuracy: 0.5500\n",
            "Epoch 25/35\n",
            "10/10 [==============================] - 2s 202ms/step - loss: 0.5980 - accuracy: 0.7333 - val_loss: 1.0677 - val_accuracy: 0.5300\n",
            "Epoch 26/35\n",
            "10/10 [==============================] - 2s 184ms/step - loss: 0.5363 - accuracy: 0.7767 - val_loss: 0.9922 - val_accuracy: 0.5500\n",
            "Epoch 27/35\n",
            "10/10 [==============================] - 2s 186ms/step - loss: 0.5761 - accuracy: 0.7533 - val_loss: 1.0607 - val_accuracy: 0.5600\n",
            "Epoch 28/35\n",
            "10/10 [==============================] - 2s 186ms/step - loss: 0.5487 - accuracy: 0.7600 - val_loss: 1.0564 - val_accuracy: 0.5700\n",
            "Epoch 29/35\n",
            "10/10 [==============================] - 2s 190ms/step - loss: 0.5350 - accuracy: 0.7500 - val_loss: 1.2546 - val_accuracy: 0.5800\n",
            "Epoch 30/35\n",
            "10/10 [==============================] - 2s 190ms/step - loss: 0.6237 - accuracy: 0.6967 - val_loss: 1.0063 - val_accuracy: 0.5300\n",
            "Epoch 31/35\n",
            "10/10 [==============================] - 2s 197ms/step - loss: 0.5396 - accuracy: 0.7900 - val_loss: 1.0332 - val_accuracy: 0.5500\n",
            "Epoch 32/35\n",
            "10/10 [==============================] - 2s 191ms/step - loss: 0.4699 - accuracy: 0.7967 - val_loss: 0.9792 - val_accuracy: 0.6100\n",
            "Epoch 33/35\n",
            "10/10 [==============================] - 2s 181ms/step - loss: 0.4601 - accuracy: 0.8100 - val_loss: 1.0422 - val_accuracy: 0.5500\n",
            "Epoch 34/35\n",
            "10/10 [==============================] - 2s 198ms/step - loss: 0.4990 - accuracy: 0.7767 - val_loss: 1.0256 - val_accuracy: 0.5500\n",
            "Epoch 35/35\n",
            "10/10 [==============================] - 2s 196ms/step - loss: 0.4261 - accuracy: 0.8333 - val_loss: 1.0875 - val_accuracy: 0.5900\n"
          ]
        }
      ]
    },
    {
      "cell_type": "code",
      "metadata": {
        "colab": {
          "base_uri": "https://localhost:8080/",
          "height": 534
        },
        "id": "eYZPvnNpayrk",
        "outputId": "62207732-35af-4e16-e6c5-5253fbba0072"
      },
      "source": [
        "# plot the loss\n",
        "import matplotlib.pyplot as plt\n",
        "plt.plot(r.history['loss'], label='train loss')\n",
        "plt.plot(r.history['val_loss'], label='val loss')\n",
        "plt.legend()\n",
        "plt.show()\n",
        "plt.savefig('LossVal_loss')\n",
        "\n",
        "# plot the accuracy\n",
        "plt.plot(r.history['accuracy'], label='train acc')\n",
        "plt.plot(r.history['val_accuracy'], label='val acc')\n",
        "plt.legend()\n",
        "plt.show()\n",
        "plt.savefig('AccVal_acc')"
      ],
      "execution_count": 11,
      "outputs": [
        {
          "output_type": "display_data",
          "data": {
            "image/png": "[encoded data removed]",
            "text/plain": [
              "<Figure size 432x288 with 1 Axes>"
            ]
          },
          "metadata": {
            "needs_background": "light"
          }
        },
        {
          "output_type": "display_data",
          "data": {
            "image/png": "[encoded data removed]",
            "text/plain": [
              "<Figure size 432x288 with 1 Axes>"
            ]
          },
          "metadata": {
            "needs_background": "light"
          }
        },
        {
          "output_type": "display_data",
          "data": {
            "text/plain": [
              "<Figure size 432x288 with 0 Axes>"
            ]
          },
          "metadata": {}
        }
      ]
    },
    {
      "cell_type": "code",
      "metadata": {
        "id": "-AodAcXBhkKA"
      },
      "source": [
        "# Save it as a h5 file\n",
        "\n",
        "\n",
        "from tensorflow.keras.models import load_model\n",
        "\n",
        "cnn.save('model_rcat_dog.h5')"
      ],
      "execution_count": 12,
      "outputs": []
    },
    {
      "cell_type": "code",
      "metadata": {
        "id": "gxjU-uqwhwvJ"
      },
      "source": [
        "from tensorflow.keras.models import load_model\n",
        " \n",
        "# load model\n",
        "model = load_model('model_rcat_dog.h5')"
      ],
      "execution_count": 13,
      "outputs": []
    },
    {
      "cell_type": "code",
      "metadata": {
        "colab": {
          "base_uri": "https://localhost:8080/"
        },
        "id": "jYlHkvj1h069",
        "outputId": "05650e2f-db87-4e44-a653-02f93458c6fd"
      },
      "source": [
        "# Lets see the model summary\n",
        "model.summary()"
      ],
      "execution_count": 14,
      "outputs": [
        {
          "output_type": "stream",
          "name": "stdout",
          "text": [
            "Model: \"sequential\"\n",
            "_________________________________________________________________\n",
            "Layer (type)                 Output Shape              Param #   \n",
            "=================================================================\n",
            "conv2d (Conv2D)              (None, 32, 32, 32)        896       \n",
            "_________________________________________________________________\n",
            "max_pooling2d (MaxPooling2D) (None, 16, 16, 32)        0         \n",
            "_________________________________________________________________\n",
            "conv2d_1 (Conv2D)            (None, 16, 16, 32)        9248      \n",
            "_________________________________________________________________\n",
            "max_pooling2d_1 (MaxPooling2 (None, 8, 8, 32)          0         \n",
            "_________________________________________________________________\n",
            "flatten (Flatten)            (None, 2048)              0         \n",
            "_________________________________________________________________\n",
            "dense (Dense)                (None, 128)               262272    \n",
            "_________________________________________________________________\n",
            "dense_1 (Dense)              (None, 1)                 129       \n",
            "=================================================================\n",
            "Total params: 272,545\n",
            "Trainable params: 272,545\n",
            "Non-trainable params: 0\n",
            "_________________________________________________________________\n"
          ]
        }
      ]
    },
    {
      "cell_type": "code",
      "metadata": {
        "id": "ZO814NWfh5la"
      },
      "source": [
        "# Testing\n",
        "\n",
        "import numpy as np\n",
        "from tensorflow.keras.preprocessing import image\n",
        "test_image = image.load_img('/content/drive/MyDrive/cats_Dogs/Dataset/test/Dogs/307.jpg', target_size = (64,64))\n",
        "test_image = image.img_to_array(test_image)\n",
        "test_image=test_image/255\n",
        "test_image = np.expand_dims(test_image, axis = 0)\n",
        "result = cnn.predict(test_image)"
      ],
      "execution_count": 15,
      "outputs": []
    },
    {
      "cell_type": "code",
      "metadata": {
        "colab": {
          "base_uri": "https://localhost:8080/"
        },
        "id": "hTK1AjqyiHh1",
        "outputId": "1a22ae4b-df71-4aec-860a-eb1dd44ef06d"
      },
      "source": [
        "result"
      ],
      "execution_count": 16,
      "outputs": [
        {
          "output_type": "execute_result",
          "data": {
            "text/plain": [
              "array([[1.8359057]], dtype=float32)"
            ]
          },
          "metadata": {},
          "execution_count": 16
        }
      ]
    },
    {
      "cell_type": "code",
      "metadata": {
        "colab": {
          "base_uri": "https://localhost:8080/"
        },
        "id": "TCrSoouviMMP",
        "outputId": "953637ae-7a24-46ea-8d25-c404134d41df"
      },
      "source": [
        "if result[0]<0:\n",
        "    print(\"The image classified is cat\")\n",
        "else:\n",
        "    print(\"The image classified is dog\")"
      ],
      "execution_count": 17,
      "outputs": [
        {
          "output_type": "stream",
          "name": "stdout",
          "text": [
            "The image classified is dog\n"
          ]
        }
      ]
    },
    {
      "cell_type": "markdown",
      "metadata": {
        "id": "5wnotTEcibKE"
      },
      "source": [
        "Model Corerctly predicts."
      ]
    }
  ]
}